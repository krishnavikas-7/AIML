{
 "cells": [
  {
   "cell_type": "markdown",
   "metadata": {},
   "source": [
    "### CSE-221710301035-M.KRISHNAVIKAS"
   ]
  },
  {
   "cell_type": "code",
   "execution_count": 1,
   "metadata": {},
   "outputs": [],
   "source": [
    "f = open(\"sample.txt\",\"w\")\n",
    "s = '''Hello everyone!\n",
    "How are you all doing?\n",
    "Welcome to python programming.'''\n",
    "f.write(s)\n",
    "f.close()"
   ]
  },
  {
   "cell_type": "code",
   "execution_count": 2,
   "metadata": {},
   "outputs": [
    {
     "name": "stdout",
     "output_type": "stream",
     "text": [
      "lines :  3 words :  3 letters :  67\n"
     ]
    }
   ],
   "source": [
    "#Question 1: Count the no.of words,no.of letters,no.of lines available in your file\n",
    "\n",
    "f = open(\"sample.txt\",\"r\")\n",
    "numberoflines = 0\n",
    "numberofwords = 0\n",
    "letters = 0\n",
    "for l in f:\n",
    "    l = l.strip(\"\\n\")\n",
    "    words = l.split()\n",
    "    numberoflines += 1\n",
    "    numberofwords += 1\n",
    "    letters += len(l)\n",
    "f.close()\n",
    "print(\"lines : \", numberoflines, \"words : \", numberofwords, \"letters : \",letters)"
   ]
  },
  {
   "cell_type": "code",
   "execution_count": 3,
   "metadata": {},
   "outputs": [],
   "source": [
    "#Question 2: Copy the content of one file to another\n",
    "\n",
    "f = open(\"sample.txt\",\"r\")\n",
    "f1 = open(\"copy.txt\",\"w\")\n",
    "for lines in f:\n",
    "    f1.write(lines)\n",
    "f.close()\n",
    "f1.close()\n"
   ]
  },
  {
   "cell_type": "code",
   "execution_count": 4,
   "metadata": {},
   "outputs": [
    {
     "name": "stdout",
     "output_type": "stream",
     "text": [
      "Hello everyone!\n",
      "How are you all doing?\n",
      "Welcome to python programming.\n"
     ]
    }
   ],
   "source": [
    "f1 = open(\"copy.txt\",\"r\")\n",
    "data = f1.read()\n",
    "print(data)\n",
    "f1.close()"
   ]
  },
  {
   "cell_type": "code",
   "execution_count": 5,
   "metadata": {},
   "outputs": [
    {
     "name": "stdout",
     "output_type": "stream",
     "text": [
      "python\n",
      "programming.\n"
     ]
    }
   ],
   "source": [
    "#Question 3: Display the words starting with letter 'p'\n",
    "\n",
    "f = open(\"sample.txt\",\"r\")\n",
    "for lines in f:\n",
    "    words = lines.split()\n",
    "    for i in words:\n",
    "        if(i[0]==\"p\"):\n",
    "            print(i)"
   ]
  },
  {
   "cell_type": "code",
   "execution_count": 6,
   "metadata": {},
   "outputs": [],
   "source": [
    "#Question 4: Rename and remove files\n",
    "\n",
    "import os\n",
    "os.rename(\"copy.txt\",\"renamed.txt\")\n",
    "os.remove(\"renamed.txt\")"
   ]
  },
  {
   "cell_type": "code",
   "execution_count": null,
   "metadata": {},
   "outputs": [],
   "source": []
  }
 ],
 "metadata": {
  "kernelspec": {
   "display_name": "Python 3",
   "language": "python",
   "name": "python3"
  },
  "language_info": {
   "codemirror_mode": {
    "name": "ipython",
    "version": 3
   },
   "file_extension": ".py",
   "mimetype": "text/x-python",
   "name": "python",
   "nbconvert_exporter": "python",
   "pygments_lexer": "ipython3",
   "version": "3.7.6"
  }
 },
 "nbformat": 4,
 "nbformat_minor": 4
}
