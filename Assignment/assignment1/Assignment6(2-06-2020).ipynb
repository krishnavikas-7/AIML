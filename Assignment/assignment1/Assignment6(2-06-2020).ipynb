{
 "cells": [
  {
   "cell_type": "markdown",
   "metadata": {},
   "source": [
    "### cse-221710301035-M.krishnavikas"
   ]
  },
  {
   "cell_type": "markdown",
   "metadata": {},
   "source": [
    "### Nine lives"
   ]
  },
  {
   "cell_type": "code",
   "execution_count": 1,
   "metadata": {},
   "outputs": [
    {
     "name": "stdout",
     "output_type": "stream",
     "text": [
      "\n",
      " Guess a letter or the whole word : a\n",
      "['?', '?', 'a', '?', '?']\n",
      "Lives left: 9\n",
      "\n",
      " Guess a letter or the whole word : e\n",
      "['?', 'e', 'a', '?', '?']\n",
      "Lives left: 9\n",
      "\n",
      " Guess a letter or the whole word : r\n",
      "Incorrect. You lose a life\n",
      "\n",
      "lives remaining :  8\n",
      "\n",
      " Guess a letter or the whole word : c\n",
      "['?', 'e', 'a', 'c', '?']\n",
      "Lives left: 8\n",
      "\n",
      " Guess a letter or the whole word : e\n",
      "['?', 'e', 'a', 'c', '?']\n",
      "Lives left: 8\n",
      "\n",
      " Guess a letter or the whole word : p\n",
      "['p', 'e', 'a', 'c', '?']\n",
      "Lives left: 8\n",
      "\n",
      " Guess a letter or the whole word : peace\n",
      "You won! The secret word was  peace\n"
     ]
    }
   ],
   "source": [
    "import random\n",
    "lives = 9\n",
    "words_list = [\"dream\",\"magic\",\"faith\",\"ocean\",\"radio\",\"sugar\",\"heart\",\"world\",\"angel\",\"peace\"]\n",
    "listq = [\"?\",\"?\",\"?\",\"?\",\"?\"]\n",
    "secret_word=random.choice(words_list)\n",
    "space = 5\n",
    "while lives > 0:\n",
    "    \n",
    "    s = space\n",
    "    guess = input(\"\\n Guess a letter or the whole word : \")\n",
    "    if len(guess)==len(secret_word):\n",
    "        if guess==secret_word:\n",
    "            print(\"You won! The secret word was \",guess)\n",
    "            break\n",
    "    else:\n",
    "        for i in secret_word:\n",
    "            if guess==i:\n",
    "                listq[secret_word.index(i)]=guess\n",
    "                print(listq)\n",
    "                print(\"Lives left:\",lives)\n",
    "                for j in range(lives):\n",
    "                    space -= 1\n",
    "                break\n",
    "    if s == space:\n",
    "        print(\"Incorrect. You lose a life\")\n",
    "        lives -= 1\n",
    "        print(\"\\nlives remaining : \",lives)\n",
    "        \n",
    "    if (''.join(listq)==secret_word):\n",
    "        print(\"\\n You won! The secret word was \",secret_word)\n",
    "        space -= 1\n",
    "        break"
   ]
  },
  {
   "cell_type": "code",
   "execution_count": null,
   "metadata": {},
   "outputs": [],
   "source": []
  }
 ],
 "metadata": {
  "kernelspec": {
   "display_name": "Python 3",
   "language": "python",
   "name": "python3"
  },
  "language_info": {
   "codemirror_mode": {
    "name": "ipython",
    "version": 3
   },
   "file_extension": ".py",
   "mimetype": "text/x-python",
   "name": "python",
   "nbconvert_exporter": "python",
   "pygments_lexer": "ipython3",
   "version": "3.7.6"
  }
 },
 "nbformat": 4,
 "nbformat_minor": 4
}
