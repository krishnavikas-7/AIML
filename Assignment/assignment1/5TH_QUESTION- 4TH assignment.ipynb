{
  "nbformat": 4,
  "nbformat_minor": 0,
  "metadata": {
    "colab": {
      "name": "5TH QUESTION",
      "provenance": []
    },
    "kernelspec": {
      "name": "python3",
      "display_name": "Python 3"
    }
  },
  "cells": [
    {
      "cell_type": "markdown",
      "metadata": {
        "id": "oYJduU_10ekT",
        "colab_type": "text"
      },
      "source": [
        "CSE-221710301035-M.KRISHNAVIKAS"
      ]
    },
    {
      "cell_type": "code",
      "metadata": {
        "id": "kMox6kSwyGUF",
        "colab_type": "code",
        "colab": {
          "base_uri": "https://localhost:8080/",
          "height": 34
        },
        "outputId": "cc22b7fe-8cb9-4dbd-9f17-4aa9037951f3"
      },
      "source": [
        "#Question 5:\n",
        "#1. Create a folder \n",
        "#2. Goto that folder and create 5 no.of files\n",
        "#3. All the file names should be unique\n",
        "#4. Add some content into the file and the content in all the files should be unique\n",
        "#6.File size should be 512bits\n",
        "\n",
        "import os\n",
        "path=\"/tmp/folderAP\"\n",
        "\n",
        "try:\n",
        "  os.mkdir(path)\n",
        "except OSError:\n",
        "  print(\"unsuccessfull \")\n",
        "else:\n",
        "  print(\"Successfully created the directory %s\" %path)\n",
        "  "
      ],
      "execution_count": 1,
      "outputs": [
        {
          "output_type": "stream",
          "text": [
            "Successfully created the directory /tmp/folderAP\n"
          ],
          "name": "stdout"
        }
      ]
    },
    {
      "cell_type": "code",
      "metadata": {
        "id": "J5bPXEd5ybjv",
        "colab_type": "code",
        "colab": {}
      },
      "source": [
        "import os\n",
        "path=\"/tmp/folderAP\"\n",
        "os.chdir(path)"
      ],
      "execution_count": 0,
      "outputs": []
    },
    {
      "cell_type": "code",
      "metadata": {
        "id": "bFh6iLhAyjaC",
        "colab_type": "code",
        "colab": {}
      },
      "source": [
        "import os\n",
        "path=\"/tmp/folderAP\"\n",
        "os.chdir(path)\n"
      ],
      "execution_count": 0,
      "outputs": []
    },
    {
      "cell_type": "code",
      "metadata": {
        "id": "v6cZ-ROpyu00",
        "colab_type": "code",
        "colab": {}
      },
      "source": [
        "f=open(os.path.join('/tmp/folderAP','file1.txt'),\"w\")\n",
        "f.write(\"This is the first file in the fol-folderAP(advanced programming)\")\n",
        "f.close()"
      ],
      "execution_count": 0,
      "outputs": []
    },
    {
      "cell_type": "code",
      "metadata": {
        "id": "-mSt4Pk3yx1I",
        "colab_type": "code",
        "colab": {}
      },
      "source": [
        "f=open(os.path.join('/tmp/folderAP','file2.txt'),\"w\")\n",
        "f.write(\"This is the first file in the  fol-folderAP(advanced programming)\")\n",
        "f.close()"
      ],
      "execution_count": 0,
      "outputs": []
    },
    {
      "cell_type": "code",
      "metadata": {
        "id": "5J2E8d2py2bK",
        "colab_type": "code",
        "colab": {}
      },
      "source": [
        "f=open(os.path.join('/tmp/folderAP','file3.txt'),\"w\")\n",
        "f.write(\"This is the first file in the fol-folderAP(advanced programming)\")\n",
        "f.close()"
      ],
      "execution_count": 0,
      "outputs": []
    },
    {
      "cell_type": "code",
      "metadata": {
        "id": "ALQLEZ7xy9xP",
        "colab_type": "code",
        "colab": {}
      },
      "source": [
        "f=open(os.path.join('/tmp/folderAP','file4.txt'),\"w\")\n",
        "f.write(\"This is the first file in the fol-folderAP(advanced programming)\")\n",
        "f.close()"
      ],
      "execution_count": 0,
      "outputs": []
    },
    {
      "cell_type": "code",
      "metadata": {
        "id": "q74M5p8SzHot",
        "colab_type": "code",
        "colab": {}
      },
      "source": [
        "f=open(os.path.join('/tmp/folderAP','file5.txt'),\"w\")\n",
        "f.write(\"This is the first file in the fol-folderAP(advanced programming)\")\n",
        "f.close()"
      ],
      "execution_count": 0,
      "outputs": []
    },
    {
      "cell_type": "code",
      "metadata": {
        "id": "pibqu08IzMuU",
        "colab_type": "code",
        "colab": {
          "base_uri": "https://localhost:8080/",
          "height": 51
        },
        "outputId": "1d5c0760-8ee3-47b7-b473-63c3a4c767f3"
      },
      "source": [
        "import os\n",
        "file=\"/tmp/folderAP/file1.txt\"\n",
        "f_stats=os.stat('file1.txt')\n",
        "print(f_stats)\n",
        "print(f'File size {f_stats.st_size} bytes')"
      ],
      "execution_count": 10,
      "outputs": [
        {
          "output_type": "stream",
          "text": [
            "os.stat_result(st_mode=33188, st_ino=6422612, st_dev=50, st_nlink=1, st_uid=0, st_gid=0, st_size=64, st_atime=1590996703, st_mtime=1590996703, st_ctime=1590996703)\n",
            "File size 64 bytes\n"
          ],
          "name": "stdout"
        }
      ]
    },
    {
      "cell_type": "code",
      "metadata": {
        "id": "AZVDwsoLzSFi",
        "colab_type": "code",
        "colab": {
          "base_uri": "https://localhost:8080/",
          "height": 51
        },
        "outputId": "49258e58-9dff-4572-cf18-ca3c72bad037"
      },
      "source": [
        "import os\n",
        "file=\"/tmp/folderAP/file2.txt\"\n",
        "f_stats=os.stat('file1.txt')\n",
        "print(f_stats)\n",
        "print(f'File size {f_stats.st_size} bytes')"
      ],
      "execution_count": 11,
      "outputs": [
        {
          "output_type": "stream",
          "text": [
            "os.stat_result(st_mode=33188, st_ino=6422612, st_dev=50, st_nlink=1, st_uid=0, st_gid=0, st_size=64, st_atime=1590996703, st_mtime=1590996703, st_ctime=1590996703)\n",
            "File size 64 bytes\n"
          ],
          "name": "stdout"
        }
      ]
    },
    {
      "cell_type": "code",
      "metadata": {
        "id": "NNjeoKg0zXgo",
        "colab_type": "code",
        "colab": {
          "base_uri": "https://localhost:8080/",
          "height": 51
        },
        "outputId": "852ca367-1030-401a-9abb-dd023ce66147"
      },
      "source": [
        "import os\n",
        "file=\"/tmp/folderAP/file3.txt\"\n",
        "f_stats=os.stat('file1.txt')\n",
        "print(f_stats)\n",
        "print(f'File size {f_stats.st_size} bytes')"
      ],
      "execution_count": 12,
      "outputs": [
        {
          "output_type": "stream",
          "text": [
            "os.stat_result(st_mode=33188, st_ino=6422612, st_dev=50, st_nlink=1, st_uid=0, st_gid=0, st_size=64, st_atime=1590996703, st_mtime=1590996703, st_ctime=1590996703)\n",
            "File size 64 bytes\n"
          ],
          "name": "stdout"
        }
      ]
    },
    {
      "cell_type": "code",
      "metadata": {
        "id": "IyFePWUOzd4z",
        "colab_type": "code",
        "colab": {
          "base_uri": "https://localhost:8080/",
          "height": 51
        },
        "outputId": "ebf1544f-c587-4ee5-f7f6-f27d3b50522b"
      },
      "source": [
        "import os\n",
        "file=\"/tmp/folderAP/file4.txt\"\n",
        "f_stats=os.stat('file1.txt')\n",
        "print(f_stats)\n",
        "print(f'File size {f_stats.st_size} bytes')"
      ],
      "execution_count": 13,
      "outputs": [
        {
          "output_type": "stream",
          "text": [
            "os.stat_result(st_mode=33188, st_ino=6422612, st_dev=50, st_nlink=1, st_uid=0, st_gid=0, st_size=64, st_atime=1590996703, st_mtime=1590996703, st_ctime=1590996703)\n",
            "File size 64 bytes\n"
          ],
          "name": "stdout"
        }
      ]
    },
    {
      "cell_type": "code",
      "metadata": {
        "id": "QZSISc2GzjKO",
        "colab_type": "code",
        "colab": {
          "base_uri": "https://localhost:8080/",
          "height": 51
        },
        "outputId": "ea0fc93a-a59f-4281-9ba5-20e5f31809f8"
      },
      "source": [
        "import os\n",
        "file=\"/tmp/folderAP/file5.txt\"\n",
        "f_stats=os.stat('file1.txt')\n",
        "print(f_stats)\n",
        "print(f'File size {f_stats.st_size} bytes')"
      ],
      "execution_count": 14,
      "outputs": [
        {
          "output_type": "stream",
          "text": [
            "os.stat_result(st_mode=33188, st_ino=6422612, st_dev=50, st_nlink=1, st_uid=0, st_gid=0, st_size=64, st_atime=1590996703, st_mtime=1590996703, st_ctime=1590996703)\n",
            "File size 64 bytes\n"
          ],
          "name": "stdout"
        }
      ]
    }
  ]
}